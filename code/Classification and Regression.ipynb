{
 "cells": [
  {
   "cell_type": "markdown",
   "id": "447cf46b-0131-4b56-8579-1d0835ea16ee",
   "metadata": {},
   "source": [
    "# Classification and Regression\n",
    "\n",
    "* Classification\n",
    "    * Identifying which category an object belongs to\n",
    "    * Predicting a categorical value\n",
    "    * Label is a discrete value\n",
    "    * Given a feature vector, matrix or tensor, we need to predict a value.Eg; Classifying cat or dog, Classifying mumbers from the image.\n",
    "\n",
    "* Regression\n",
    "    * Predicting an attribute associte with an object\n",
    "    * Predicting a continuous values. Eg; Stock price prediction\n",
    "    * Label is continuous"
   ]
  },
  {
   "cell_type": "markdown",
   "id": "fb0ec02c-0abf-46b5-a350-fead83ab1691",
   "metadata": {},
   "source": [
    "## Classification\n",
    "\n",
    "The problem of identifying to which of a set of\n",
    "categories (sub-populations) a new observation\n",
    "belongs, on the basis of a training set of data\n",
    "containing observations (or instances) whose\n",
    "category membership is known.” Statistical classification in\n",
    "Wikipedia"
   ]
  },
  {
   "cell_type": "markdown",
   "id": "b66add88-9f8f-4372-88a1-86edfa8b552c",
   "metadata": {},
   "source": [
    "## Types of Classification\n",
    "\n",
    "1. Binary Classification\n",
    "    * Two class labels\n",
    "    * Eg; Spam or not, Buy products or not, Cat or dog\n",
    "2. Multi-Class Classification\n",
    "    * More than two class labels\n",
    "    * Eg; Plant species classification, Multiple animal classification, Numeric Digits Recognition\n",
    "3. Multi-Label Classification\n",
    "    * One or more label classes predicted for each feature vector/matrix/tensor.\n",
    "    * Eg; Identifying animal and person(multiple objects) in a picture."
   ]
  },
  {
   "cell_type": "markdown",
   "id": "b0eed667-af2f-479c-a0ed-bbc1c5975bbd",
   "metadata": {},
   "source": [
    "Data(Images, Audio, Video, Numbers)--->Pre-processing(Noise Filtering, Feature Extraction, Normalization)----> Dimensionality Reduction(Feature Selection, Feature Projection)----> Model Learning(Classification, Regression, Clustering)----> Model Testing(Cross Validation)-----> Test Data"
   ]
  },
  {
   "cell_type": "markdown",
   "id": "4a1b3352-12a3-49e6-ab7c-65dc2e7ff203",
   "metadata": {},
   "source": [
    "## Feature Scaling (Normalization or Standardization)\n",
    "\n",
    "Standardize the range of independent variables\n",
    "\n",
    "### 1. Standardization or Z-score normalization\n",
    "\n",
    "### 2. Min-max scaling"
   ]
  },
  {
   "cell_type": "markdown",
   "id": "df5bcf30-fd25-420c-9b51-9119cb0433a0",
   "metadata": {
    "tags": []
   },
   "source": [
    "## Classification Evaluation\n",
    "\n",
    "### 1. Confusion Matrix\n",
    "\n",
    "TP = True Positive<br/>\n",
    "TN = True Negative<br/>\n",
    "FN = False Negative<br/>\n",
    "FP = False Positive<br/>\n",
    "\n",
    "\n",
    "|Actual Class|Yes|No|\n",
    "|---|---|---|\n",
    "|Predicted Class|Yes|No|\n",
    "|               | TP         | TN|\n",
    "                  \n",
    "                  \n",
    "|Actual Class|Yes|No|\n",
    "|---|---|---|\n",
    "|Predicted Class|No|Yes|\n",
    "|               | FN         | FP|\n",
    "\n",
    "### Evaluation Metrics\n",
    "\n",
    "* Sensitivity or True Positive Rate or Recall (TPR)\n",
    "    * The proportion of actual positive cases that were correctly identified\n",
    "    * TP/(TP+FN)\n",
    "* Specificity or True Negative Rate (TNR)\n",
    "    * The proportion of actual negative cases which are correctly identified\n",
    "    * TN/(FP+TN)\n",
    "* Precision or Positive Predictive Value (PPV)\n",
    "    * The proportion of positive cases that were correctly identified\n",
    "    * TP/(TP+FP)\n",
    "* Negative Predictive Value (NPV)\n",
    "    * The proportion of negative cases that were correctly identified\n",
    "    * TN/(TN+FN)\n",
    "* Accuracy\n",
    "    * (TP+TN)/(TP+FP+TN+FN)  \n",
    "    * The proportion of the total number of predictions that were correct"
   ]
  },
  {
   "cell_type": "markdown",
   "id": "f4927ba2-b78e-4006-aea9-06b58a4e66d8",
   "metadata": {},
   "source": [
    "### 2. F1 Score\n",
    "\n",
    "* Harmonic mean of precision and recall\n",
    "* 2 * ((precision*recall)/(precision+recall))\n",
    "\n",
    "\n",
    "#### Why is F1 score important\n",
    "https://www.analyticsvidhya.com/blog/2019/08/11-important-model-evaluation-error-metrics/\n",
    "Suppose we have precision=0 and recall=1 for a binary classification model"
   ]
  },
  {
   "cell_type": "markdown",
   "id": "9867939a-f794-4c20-81ed-cfb8f07d51e6",
   "metadata": {},
   "source": [
    "### 3. ROC-AUC"
   ]
  },
  {
   "cell_type": "code",
   "execution_count": null,
   "id": "a836250c-b1f8-45e5-b296-d637cb9dd90a",
   "metadata": {},
   "outputs": [],
   "source": []
  }
 ],
 "metadata": {
  "kernelspec": {
   "display_name": "Python 3 (ipykernel)",
   "language": "python",
   "name": "python3"
  },
  "language_info": {
   "codemirror_mode": {
    "name": "ipython",
    "version": 3
   },
   "file_extension": ".py",
   "mimetype": "text/x-python",
   "name": "python",
   "nbconvert_exporter": "python",
   "pygments_lexer": "ipython3",
   "version": "3.7.12"
  }
 },
 "nbformat": 4,
 "nbformat_minor": 5
}
