{
 "cells": [
  {
   "cell_type": "markdown",
   "id": "447cf46b-0131-4b56-8579-1d0835ea16ee",
   "metadata": {},
   "source": [
    "# Classification and Regression\n",
    "\n",
    "* Classification\n",
    "    * Identifying which category an object belongs to\n",
    "    * Predicting a categorical value\n",
    "    * Label is a discrete value\n",
    "    * Given a feature vector, matrix or tensor, we need to predict a value.Eg; Classifying cat or dog, Classifying mumbers from the image.\n",
    "\n",
    "* Regression\n",
    "    * Predicting an attribute associte with an object\n",
    "    * Predicting a continuous values. Eg; Stock price prediction\n",
    "    * Label is continuous"
   ]
  },
  {
   "cell_type": "markdown",
   "id": "fb0ec02c-0abf-46b5-a350-fead83ab1691",
   "metadata": {},
   "source": [
    "## Classification\n",
    "\n",
    "The problem of identifying to which of a set of\n",
    "categories (sub-populations) a new observation\n",
    "belongs, on the basis of a training set of data\n",
    "containing observations (or instances) whose\n",
    "category membership is known.” Statistical classification in\n",
    "Wikipedia"
   ]
  },
  {
   "cell_type": "markdown",
   "id": "b66add88-9f8f-4372-88a1-86edfa8b552c",
   "metadata": {},
   "source": [
    "## Types of Classification\n",
    "\n",
    "1. Binary Classification\n",
    "    * Two class labels\n",
    "    * Eg; Spam or not, Buy products or not, Cat or dog\n",
    "2. Multi-Class Classification\n",
    "    * More than two class labels\n",
    "    * Eg; Plant species classification, Multiple animal classification, Numeric Digits Recognition\n",
    "3. Multi-Label Classification\n",
    "    * One or more label classes predicted for each feature vector/matrix/tensor.\n",
    "    * Eg; Identifying animal and person(multiple objects) in a picture."
   ]
  },
  {
   "cell_type": "markdown",
   "id": "b0eed667-af2f-479c-a0ed-bbc1c5975bbd",
   "metadata": {},
   "source": [
    "Data(Images, Audio, Video, Numbers)--->Pre-processing(Noise Filtering, Feature Extraction, Normalization)----> Dimensionality Reduction(Feature Selection, Feature Projection)----> Model Learning(Classification, Regression, Clustering)----> Model Testing(Cross Validation)-----> Test Data"
   ]
  },
  {
   "cell_type": "markdown",
   "id": "4a1b3352-12a3-49e6-ab7c-65dc2e7ff203",
   "metadata": {},
   "source": [
    "## Feature Scaling (Normalization or Standardization)\n",
    "\n",
    "Standardize the range of independent variables\n",
    "\n",
    "* Standardize the range of independent variables\n",
    "\n",
    "### 1. Standardization or Z-score normalization\n",
    "\n",
    "* Rescale the data so that the mean is zero and the\n",
    "standard deviation from the mean (standard scores) is\n",
    "one\n",
    "\n",
    "x(norm)=x-mean/(standard_deviation)\n",
    "\n",
    "### 2. Min-max scaling\n",
    "\n",
    "* Scale the data to a fixed range – between 0 and 1\n",
    "\n",
    "x(norm)=x-x(min)/x(max)-x(min)"
   ]
  },
  {
   "cell_type": "markdown",
   "id": "df5bcf30-fd25-420c-9b51-9119cb0433a0",
   "metadata": {
    "tags": []
   },
   "source": [
    "## Classification Evaluation\n",
    "\n",
    "### 1. Confusion Matrix\n",
    "\n",
    "TP = True Positive<br/>\n",
    "TN = True Negative<br/>\n",
    "FN = False Negative<br/>\n",
    "FP = False Positive<br/>\n",
    "\n",
    "\n",
    "|Actual Class|Yes|No|\n",
    "|---|---|---|\n",
    "|Predicted Class|Yes|No|\n",
    "|               | TP         | TN|\n",
    "                  \n",
    "                  \n",
    "|Actual Class|Yes|No|\n",
    "|---|---|---|\n",
    "|Predicted Class|No|Yes|\n",
    "|               | FN         | FP|\n",
    "\n",
    "### Evaluation Metrics\n",
    "\n",
    "* Sensitivity or True Positive Rate or Recall (TPR)\n",
    "    * The proportion of actual positive cases that were correctly identified\n",
    "    * TP/(TP+FN)\n",
    "* Specificity or True Negative Rate (TNR)\n",
    "    * The proportion of actual negative cases which are correctly identified\n",
    "    * TN/(FP+TN)\n",
    "* Precision or Positive Predictive Value (PPV)\n",
    "    * The proportion of positive cases that were correctly identified\n",
    "    * TP/(TP+FP)\n",
    "* Negative Predictive Value (NPV)\n",
    "    * The proportion of negative cases that were correctly identified\n",
    "    * TN/(TN+FN)\n",
    "* Accuracy\n",
    "    * (TP+TN)/(TP+FP+TN+FN)  \n",
    "    * The proportion of the total number of predictions that were correct"
   ]
  },
  {
   "cell_type": "markdown",
   "id": "f4927ba2-b78e-4006-aea9-06b58a4e66d8",
   "metadata": {},
   "source": [
    "### 2. F1 Score\n",
    "\n",
    "* Harmonic mean of precision and recall\n",
    "* 2 * ((precision*recall)/(precision+recall))\n",
    "\n",
    "\n",
    "#### Why is F1 score important\n",
    "\n",
    "Suppose for a binary classification model we have to predict between cat and dogs.\n",
    "\n",
    "Let's say we have 60 datasets with 20 dogs and 40 cat.\n",
    "\n",
    "Let's say we get a model where all the dog are accurately classified\n",
    "* Total = 60\n",
    "    * Cat = 40\n",
    "    * Dog = 20\n",
    "    * TP = 20 (20 cat  accurately classified)\n",
    "    * TN = 20 (20 dog accurately classified)\n",
    "    * FN = 20 (20 cat classified as dog)\n",
    "    * FP = 0 (0 dog classified as cat)\n",
    "    \n",
    " * Precision = TP/(TP+FP) = 20/20 = 1\n",
    " * Recall = TP/(TP+FN) = 20/40 = 0.5\n",
    " "
   ]
  },
  {
   "cell_type": "markdown",
   "id": "9867939a-f794-4c20-81ed-cfb8f07d51e6",
   "metadata": {},
   "source": [
    "### 3. ROC-AUC"
   ]
  },
  {
   "cell_type": "markdown",
   "id": "5fdec6a7-27d9-406d-94dc-4883b045dfa7",
   "metadata": {},
   "source": [
    "* Receiver Operating Characteristic\n",
    "* Graphical approach for displaying the tradeoff\n",
    "between true positive rate(TPR) and false positive rate\n",
    "(FPR) of a classifier\n",
    "* TPR on y-axis and FPR on x-axis\n",
    "* Points of interests (TP, FP)\n",
    "    * (0, 0): everything is negative\n",
    "    * (1, 1): everything is positive\n",
    "    * (1, 0): perfect (ideal)"
   ]
  },
  {
   "cell_type": "markdown",
   "id": "4bf98f8d-c2ed-4eea-8e5b-e8d3f6b2836c",
   "metadata": {},
   "source": [
    "#### Area Under the ROC Curve (AUC)\n",
    "\n",
    "* AUC ranges in value from 0 to 1.\n",
    "* A model whose predictions are 100% wrong has an AUC of 0.0; one whose predictions are 100% correct has an AUC of 1.0."
   ]
  },
  {
   "cell_type": "markdown",
   "id": "56570669-8242-4a4c-b53f-b4bf937f25e1",
   "metadata": {},
   "source": [
    "## Data Validation\n",
    "\n",
    "* Holdout\n",
    "    * Use 2/3 for training and 1/3 for testing\n",
    "* Cross-validation\n",
    "    * Random subsampling\n",
    "    * K-Fold Cross-validation\n",
    "    * Leave-one-out\n",
    "* Stratified cross-validation\n",
    "    * Stratified 10-fold cross-validation is often the best\n",
    "* Bootstrapping\n",
    "    * Sampling with replacement\n",
    "           * It means a data point in a drawn sample can reappear in future drawn samples as well\n",
    "    * Oversampling vs undersampling"
   ]
  },
  {
   "cell_type": "markdown",
   "id": "1b1c3b27-2a8d-4536-9dcf-323faffe7d88",
   "metadata": {},
   "source": [
    "### Holdout\n",
    "\n",
    "* Split dataset into two groups for training and test\n",
    "* When “unfortunate split” happens, the holdout estimate of\n",
    "error rate will be misleading"
   ]
  },
  {
   "cell_type": "markdown",
   "id": "d09f8647-95a0-4e38-a0c3-fd2a3aa36a5b",
   "metadata": {},
   "source": [
    "### Random Subsampling\n",
    "\n",
    "* Split the data set into two groups. Randomly selects a number of samples without\n",
    "replacement. Usually, one third for testing, the rest for training"
   ]
  },
  {
   "cell_type": "markdown",
   "id": "57a3c8c7-d022-40fd-b360-b3b87637dd12",
   "metadata": {},
   "source": [
    "### K-Fold Cross-validation\n",
    "\n",
    "* Partition K equal sized sub groups\n",
    "* Use K-1 groups for training and the remaining one for\n",
    "testing\n",
    "* The error rate is average of all the K experiments\n",
    "* 5 or 10-Fold CV is a common choice for K-fold CV"
   ]
  },
  {
   "cell_type": "markdown",
   "id": "7fea7baf-ef3f-488e-b3f4-1099c17530de",
   "metadata": {},
   "source": [
    "### Leave-one-out\n",
    "\n",
    "* Use N-1 samples for training and the remaining\n",
    "sample for testing (i.e., there is only one sample for\n",
    "testing)\n",
    "* The error rate is average of all the N samples"
   ]
  },
  {
   "cell_type": "markdown",
   "id": "8f4371b9-62c6-468d-9dfe-c1dc8e5d7441",
   "metadata": {},
   "source": [
    "### Stratified cross-validation\n",
    "\n",
    "* When randomly selecting training or test sets,\n",
    "ensure that class proportions are maintained in each\n",
    "selected set. (training, test and validation set)"
   ]
  },
  {
   "cell_type": "markdown",
   "id": "0be84d9a-822a-4c0d-836d-ec53366b6b2d",
   "metadata": {},
   "source": [
    "### Undersampling\n",
    "\n",
    "* Consider less numbers of samples in the major class so\n",
    "that the classes are equally distributed"
   ]
  },
  {
   "cell_type": "markdown",
   "id": "8c3722b3-96f1-45cc-bf2b-402f6436327e",
   "metadata": {},
   "source": [
    "### Oversampling\n",
    "\n",
    "Amplifying the minor class samples so that the classes\n",
    "are equally distributed"
   ]
  },
  {
   "cell_type": "markdown",
   "id": "20d2aa18-6272-4948-a6bb-8762ec134ceb",
   "metadata": {},
   "source": [
    "Reference: http://mkang.faculty.unlv.edu/?menu=CS7267"
   ]
  }
 ],
 "metadata": {
  "kernelspec": {
   "display_name": "Python 3 (ipykernel)",
   "language": "python",
   "name": "python3"
  },
  "language_info": {
   "codemirror_mode": {
    "name": "ipython",
    "version": 3
   },
   "file_extension": ".py",
   "mimetype": "text/x-python",
   "name": "python",
   "nbconvert_exporter": "python",
   "pygments_lexer": "ipython3",
   "version": "3.7.12"
  }
 },
 "nbformat": 4,
 "nbformat_minor": 5
}
