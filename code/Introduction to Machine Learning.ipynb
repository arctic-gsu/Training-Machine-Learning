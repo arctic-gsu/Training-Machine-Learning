{
 "cells": [
  {
   "cell_type": "markdown",
   "id": "45b90ad4-7fc9-4ede-a318-1ef8f8779769",
   "metadata": {
    "tags": []
   },
   "source": [
    "# Machine Learning"
   ]
  },
  {
   "cell_type": "markdown",
   "id": "219537d9-2580-46eb-94f8-26a8759a3261",
   "metadata": {},
   "source": [
    "To install the package for this workshop\n",
    "* pip install numpy\n",
    "* pip install pandas\n",
    "* pip install matplotlib\n",
    "* pip install scikit-learn\n",
    "\n",
    " https://developers.google.com/machine-learning/crash-course"
   ]
  },
  {
   "cell_type": "markdown",
   "id": "792a3027-1aef-4c4c-834d-f5e2fca98cae",
   "metadata": {},
   "source": [
    "## Checking the package version\n",
    "Let's check the version of the packages we are using."
   ]
  },
  {
   "cell_type": "code",
   "execution_count": null,
   "id": "58bc238d-3a1f-476b-a562-eb086c6263aa",
   "metadata": {},
   "outputs": [],
   "source": [
    "import IPython\n",
    "print('IPython:', IPython.__version__)\n",
    "\n",
    "import numpy\n",
    "print('numpy:', numpy.__version__)\n",
    "\n",
    "import scipy\n",
    "print('scipy:', scipy.__version__)\n",
    "\n",
    "import matplotlib\n",
    "print('matplotlib:', matplotlib.__version__)\n",
    "\n",
    "import sklearn\n",
    "print('scikit-learn:', sklearn.__version__)"
   ]
  },
  {
   "cell_type": "markdown",
   "id": "943552bf-a6a2-43d9-81d1-3c7b98ada547",
   "metadata": {},
   "source": [
    "## What is Machine Learning?\n",
    "\n",
    "* Machine learning (ML) is a type of artificial intelligence (AI) that allows software applications to become more accurate at predicting outcomes without being explicitly programmed to do so. Machine learning algorithms use historical data as input to predict new output values.\n",
    "* Using past experiences to improve future performance.\n"
   ]
  },
  {
   "cell_type": "code",
   "execution_count": null,
   "id": "cb86a333-624c-48aa-9148-4ba86f26d672",
   "metadata": {},
   "outputs": [],
   "source": [
    "from IPython.display import Image\n",
    "display(Image(filename=\"../images/ai-machine-deep-learning.png\"))\n"
   ]
  },
  {
   "cell_type": "markdown",
   "id": "0a31a41d-ea54-4cd7-94ea-54a198170f61",
   "metadata": {},
   "source": [
    "## Types of Learning\n",
    "\n",
    "1. Supervised Learning(Classification and Regression)\n",
    "    * Given labelled data, classifying or predicting unlabelled data\n",
    "2. Unsupervised Learning(Clustering)\n",
    "    * Given unlabelled data, inferring a function to describe hidden patterns"
   ]
  },
  {
   "cell_type": "markdown",
   "id": "21b069be-2f37-4aa7-a2c6-c8b1cffe99ce",
   "metadata": {},
   "source": [
    "## Data Types\n",
    "\n",
    "* Numerical Data\n",
    "    * Discrete Data\n",
    "        * Values that has some mathematical information. Eg; Number of language spoken, Number of students\n",
    "    * Continuous Data\n",
    "        * Values that has some mathematical information and are continuous. Eg; Height, Weight, Temperature, Salary\n",
    "* Categorical Data\n",
    "    * Nominal Data\n",
    "        * Values that have two or more categories but do not have an order or any mathematical information. Eg; Animal species, Nationality \n",
    "    * Ordinal Data\n",
    "        * Values that can be put in order. Eg; Positions in competitions.\n"
   ]
  },
  {
   "cell_type": "markdown",
   "id": "6ee10f65-b926-4dd6-afe2-a2862a008c25",
   "metadata": {},
   "source": [
    "## Data Representation\n",
    "\n",
    "* Data may be files, image, sound, video.\n",
    "* Data is represented in vector, matrix or tensor\n",
    "    * Vector: 1-D array\n",
    "    * Matrix: 2-D array\n",
    "    * Tensor: Array more than 2 axes.\n"
   ]
  },
  {
   "cell_type": "markdown",
   "id": "7ae601b5-b761-4aa7-927d-d0cb7401d2b5",
   "metadata": {},
   "source": [
    "## ML steps\n",
    "\n",
    "Data(Images, Audio, Video, Numbers)--->Pre-processing(Noise Filtering, Feature Extraction, Normalization)----> Dimensionality Reduction(Feature Selection, Feature Projection)----> Model Learning(Classification, Regression, Clustering)----> Model Testing(Cross Validation)-----> Test Data"
   ]
  },
  {
   "cell_type": "markdown",
   "id": "312653ed-7736-4442-a98d-f6994dbce717",
   "metadata": {},
   "source": [
    "## Overfitting\n",
    "\n",
    "* Analysis that corresponds too closely or exactly to a particular set of data\n",
    "* Fail to fit additional data or predict future observations reliably"
   ]
  }
 ],
 "metadata": {
  "kernelspec": {
   "display_name": "Python 3 (ipykernel)",
   "language": "python",
   "name": "python3"
  },
  "language_info": {
   "codemirror_mode": {
    "name": "ipython",
    "version": 3
   },
   "file_extension": ".py",
   "mimetype": "text/x-python",
   "name": "python",
   "nbconvert_exporter": "python",
   "pygments_lexer": "ipython3",
   "version": "3.7.12"
  }
 },
 "nbformat": 4,
 "nbformat_minor": 5
}
