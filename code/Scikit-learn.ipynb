{
 "cells": [
  {
   "cell_type": "markdown",
   "id": "8887af0e-6b89-4ae1-ac68-66319b052d1e",
   "metadata": {},
   "source": [
    "# Scikit-learn"
   ]
  },
  {
   "cell_type": "markdown",
   "id": "6819a9b1-b917-4332-b78b-68bb2f89f29d",
   "metadata": {},
   "source": [
    "* Provides a range of supervised and unsupervised machine learning algorihtms\n",
    "* Simple and efficient tools for predictive data analysis\n",
    "* Built on NumPy, SciPy and matplotlib\n",
    "* Popular group of models provided by scikit-learn\n",
    "    * Classification\n",
    "    * Clustering\n",
    "    * Cross Validation\n",
    "    * Dimensionality reduction\n",
    "    * Feature Extraction\n",
    "    * Feature Selection\n",
    "    * Parameter Tuning"
   ]
  },
  {
   "cell_type": "code",
   "execution_count": null,
   "id": "9a46233e-58f4-4ed9-8618-abf866bec8a3",
   "metadata": {},
   "outputs": [],
   "source": []
  }
 ],
 "metadata": {
  "kernelspec": {
   "display_name": "Python 3 (ipykernel)",
   "language": "python",
   "name": "python3"
  },
  "language_info": {
   "codemirror_mode": {
    "name": "ipython",
    "version": 3
   },
   "file_extension": ".py",
   "mimetype": "text/x-python",
   "name": "python",
   "nbconvert_exporter": "python",
   "pygments_lexer": "ipython3",
   "version": "3.7.12"
  }
 },
 "nbformat": 4,
 "nbformat_minor": 5
}
